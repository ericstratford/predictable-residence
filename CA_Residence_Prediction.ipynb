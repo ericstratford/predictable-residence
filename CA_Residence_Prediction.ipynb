{
 "cells": [
  {
   "cell_type": "markdown",
   "metadata": {
    "id": "YSebscjs5Txl"
   },
   "source": [
    "# Background"
   ]
  },
  {
   "cell_type": "code",
   "execution_count": 3,
   "metadata": {
    "colab": {
     "base_uri": "https://localhost:8080/",
     "height": 53
    },
    "id": "QIkZP9-95XKE",
    "outputId": "47328392-6c2f-4ab7-aef5-15a53eef5083"
   },
   "outputs": [
    {
     "data": {
      "text/plain": [
       "'Darwin'"
      ]
     },
     "metadata": {},
     "output_type": "display_data"
    },
    {
     "name": "stdout",
     "output_type": "stream",
     "text": [
      "File downloaded successfully as qcew_2016-2019.csv\n"
     ]
    }
   ],
   "source": [
    "import platform\n",
    "display(platform.system())\n",
    "import os\n",
    "file_download_link = 'https://data.ca.gov/dataset/3f08b68e-1d1a-4ba4-a07d-1ec3392ed191/resource/78a9d6ee-ec9a-4c25-ae34-5bac44010cb2/download/qcew_2016-2019.csv'\n",
    "if os.name == 'nt':\n",
    "    print('Please download your dataset here:', file_download_link)\n",
    "else:\n",
    "    # If on another OS, use wget to download the CSV file directly\n",
    "    !wget -O qcew_2016-2019.csv \"$file_download_link\" -o /dev/null\n",
    "    print(\"File downloaded successfully as qcew_2016-2019.csv\")"
   ]
  },
  {
   "cell_type": "code",
   "execution_count": null,
   "metadata": {
    "colab": {
     "base_uri": "https://localhost:8080/"
    },
    "id": "bI0VksRS5rrm",
    "outputId": "0ea58b30-18ff-492f-8fd4-b12c026ba61e"
   },
   "outputs": [
    {
     "ename": "ModuleNotFoundError",
     "evalue": "No module named 'google.colab'",
     "output_type": "error",
     "traceback": [
      "\u001b[0;31m---------------------------------------------------------------------------\u001b[0m",
      "\u001b[0;31mModuleNotFoundError\u001b[0m                       Traceback (most recent call last)",
      "Cell \u001b[0;32mIn[2], line 1\u001b[0m\n\u001b[0;32m----> 1\u001b[0m \u001b[38;5;28;01mfrom\u001b[39;00m \u001b[38;5;21;01mgoogle\u001b[39;00m\u001b[38;5;21;01m.\u001b[39;00m\u001b[38;5;21;01mcolab\u001b[39;00m \u001b[38;5;28;01mimport\u001b[39;00m drive\n\u001b[1;32m      2\u001b[0m drive\u001b[38;5;241m.\u001b[39mmount(\u001b[38;5;124m'\u001b[39m\u001b[38;5;124m/content/drive\u001b[39m\u001b[38;5;124m'\u001b[39m)\n",
      "\u001b[0;31mModuleNotFoundError\u001b[0m: No module named 'google.colab'"
     ]
    }
   ],
   "source": [
    "#Only run if using Google Colab, do not run in VSCode\n",
    "from google.colab import drive\n",
    "drive.mount('/content/drive')"
   ]
  },
  {
   "cell_type": "code",
   "execution_count": 5,
   "metadata": {
    "colab": {
     "base_uri": "https://localhost:8080/"
    },
    "id": "UUVSPmAH5waq",
    "outputId": "fd10b875-e470-481b-fb1a-8771b3b66972"
   },
   "outputs": [
    {
     "name": "stdout",
     "output_type": "stream",
     "text": [
      "Requirement already satisfied: imbalanced-learn in /Library/Frameworks/Python.framework/Versions/3.12/lib/python3.12/site-packages (0.12.4)\n",
      "Requirement already satisfied: delayed in /Library/Frameworks/Python.framework/Versions/3.12/lib/python3.12/site-packages (1.2.0b2)\n",
      "Requirement already satisfied: numpy>=1.17.3 in /Library/Frameworks/Python.framework/Versions/3.12/lib/python3.12/site-packages (from imbalanced-learn) (2.1.2)\n",
      "Requirement already satisfied: scipy>=1.5.0 in /Library/Frameworks/Python.framework/Versions/3.12/lib/python3.12/site-packages (from imbalanced-learn) (1.14.1)\n",
      "Requirement already satisfied: scikit-learn>=1.0.2 in /Library/Frameworks/Python.framework/Versions/3.12/lib/python3.12/site-packages (from imbalanced-learn) (1.5.2)\n",
      "Requirement already satisfied: joblib>=1.1.1 in /Library/Frameworks/Python.framework/Versions/3.12/lib/python3.12/site-packages (from imbalanced-learn) (1.4.2)\n",
      "Requirement already satisfied: threadpoolctl>=2.0.0 in /Library/Frameworks/Python.framework/Versions/3.12/lib/python3.12/site-packages (from imbalanced-learn) (3.5.0)\n",
      "Requirement already satisfied: hiredis in /Library/Frameworks/Python.framework/Versions/3.12/lib/python3.12/site-packages (from delayed) (3.0.0)\n",
      "Requirement already satisfied: redis in /Library/Frameworks/Python.framework/Versions/3.12/lib/python3.12/site-packages (from delayed) (5.2.0)\n",
      "Requirement already satisfied: msgpack in /Library/Frameworks/Python.framework/Versions/3.12/lib/python3.12/site-packages (from delayed) (1.1.0)\n"
     ]
    }
   ],
   "source": [
    "import sys\n",
    "!{sys.executable} -m pip install imbalanced-learn delayed"
   ]
  },
  {
   "cell_type": "code",
   "execution_count": 4,
   "metadata": {
    "colab": {
     "base_uri": "https://localhost:8080/",
     "height": 224
    },
    "id": "kH35jX3R5zEY",
    "outputId": "c45aa89e-577b-4bf3-b478-f5b1d9bfa719"
   },
   "outputs": [
    {
     "name": "stdout",
     "output_type": "stream",
     "text": [
      "(1009955, 15)\n"
     ]
    },
    {
     "data": {
      "text/html": [
       "<div>\n",
       "<style scoped>\n",
       "    .dataframe tbody tr th:only-of-type {\n",
       "        vertical-align: middle;\n",
       "    }\n",
       "\n",
       "    .dataframe tbody tr th {\n",
       "        vertical-align: top;\n",
       "    }\n",
       "\n",
       "    .dataframe thead th {\n",
       "        text-align: right;\n",
       "    }\n",
       "</style>\n",
       "<table border=\"1\" class=\"dataframe\">\n",
       "  <thead>\n",
       "    <tr style=\"text-align: right;\">\n",
       "      <th></th>\n",
       "      <th>Area Type</th>\n",
       "      <th>Area Name</th>\n",
       "      <th>Year</th>\n",
       "      <th>Quarter</th>\n",
       "      <th>Ownership</th>\n",
       "      <th>NAICS Level</th>\n",
       "      <th>NAICS Code</th>\n",
       "      <th>Industry Name</th>\n",
       "      <th>Establishments</th>\n",
       "      <th>Average Monthly Employment</th>\n",
       "      <th>1st Month Emp</th>\n",
       "      <th>2nd Month Emp</th>\n",
       "      <th>3rd Month Emp</th>\n",
       "      <th>Total Wages (All Workers)</th>\n",
       "      <th>Average Weekly Wages</th>\n",
       "    </tr>\n",
       "  </thead>\n",
       "  <tbody>\n",
       "    <tr>\n",
       "      <th>0</th>\n",
       "      <td>County</td>\n",
       "      <td>Alameda County</td>\n",
       "      <td>2016</td>\n",
       "      <td>1st Qtr</td>\n",
       "      <td>Federal Government</td>\n",
       "      <td>2</td>\n",
       "      <td>1023</td>\n",
       "      <td>Financial Activities</td>\n",
       "      <td>1</td>\n",
       "      <td>10</td>\n",
       "      <td>10</td>\n",
       "      <td>10</td>\n",
       "      <td>10</td>\n",
       "      <td>359690.0</td>\n",
       "      <td>2767.0</td>\n",
       "    </tr>\n",
       "    <tr>\n",
       "      <th>1</th>\n",
       "      <td>County</td>\n",
       "      <td>Alameda County</td>\n",
       "      <td>2016</td>\n",
       "      <td>1st Qtr</td>\n",
       "      <td>Federal Government</td>\n",
       "      <td>2</td>\n",
       "      <td>1028</td>\n",
       "      <td>Public Administration</td>\n",
       "      <td>72</td>\n",
       "      <td>5174</td>\n",
       "      <td>5193</td>\n",
       "      <td>5143</td>\n",
       "      <td>5188</td>\n",
       "      <td>136068970.0</td>\n",
       "      <td>2023.0</td>\n",
       "    </tr>\n",
       "    <tr>\n",
       "      <th>2</th>\n",
       "      <td>County</td>\n",
       "      <td>Alameda County</td>\n",
       "      <td>2016</td>\n",
       "      <td>1st Qtr</td>\n",
       "      <td>Private</td>\n",
       "      <td>5</td>\n",
       "      <td>11121</td>\n",
       "      <td>Vegetable and Melon Farming</td>\n",
       "      <td>7</td>\n",
       "      <td>29</td>\n",
       "      <td>31</td>\n",
       "      <td>27</td>\n",
       "      <td>29</td>\n",
       "      <td>210934.0</td>\n",
       "      <td>560.0</td>\n",
       "    </tr>\n",
       "    <tr>\n",
       "      <th>3</th>\n",
       "      <td>County</td>\n",
       "      <td>Alameda County</td>\n",
       "      <td>2016</td>\n",
       "      <td>1st Qtr</td>\n",
       "      <td>Private</td>\n",
       "      <td>4</td>\n",
       "      <td>1114</td>\n",
       "      <td>Greenhouse and Nursery Production</td>\n",
       "      <td>7</td>\n",
       "      <td>52</td>\n",
       "      <td>61</td>\n",
       "      <td>64</td>\n",
       "      <td>31</td>\n",
       "      <td>748616.0</td>\n",
       "      <td>1107.0</td>\n",
       "    </tr>\n",
       "    <tr>\n",
       "      <th>4</th>\n",
       "      <td>County</td>\n",
       "      <td>Alameda County</td>\n",
       "      <td>2016</td>\n",
       "      <td>1st Qtr</td>\n",
       "      <td>Private</td>\n",
       "      <td>5</td>\n",
       "      <td>11142</td>\n",
       "      <td>Nursery and Floriculture Production</td>\n",
       "      <td>7</td>\n",
       "      <td>52</td>\n",
       "      <td>61</td>\n",
       "      <td>64</td>\n",
       "      <td>31</td>\n",
       "      <td>748616.0</td>\n",
       "      <td>1107.0</td>\n",
       "    </tr>\n",
       "  </tbody>\n",
       "</table>\n",
       "</div>"
      ],
      "text/plain": [
       "  Area Type       Area Name  Year  Quarter           Ownership  NAICS Level  \\\n",
       "0    County  Alameda County  2016  1st Qtr  Federal Government            2   \n",
       "1    County  Alameda County  2016  1st Qtr  Federal Government            2   \n",
       "2    County  Alameda County  2016  1st Qtr             Private            5   \n",
       "3    County  Alameda County  2016  1st Qtr             Private            4   \n",
       "4    County  Alameda County  2016  1st Qtr             Private            5   \n",
       "\n",
       "  NAICS Code                        Industry Name  Establishments  \\\n",
       "0       1023                 Financial Activities               1   \n",
       "1       1028                Public Administration              72   \n",
       "2      11121          Vegetable and Melon Farming               7   \n",
       "3       1114    Greenhouse and Nursery Production               7   \n",
       "4      11142  Nursery and Floriculture Production               7   \n",
       "\n",
       "   Average Monthly Employment  1st Month Emp  2nd Month Emp  3rd Month Emp  \\\n",
       "0                          10             10             10             10   \n",
       "1                        5174           5193           5143           5188   \n",
       "2                          29             31             27             29   \n",
       "3                          52             61             64             31   \n",
       "4                          52             61             64             31   \n",
       "\n",
       "   Total Wages (All Workers)  Average Weekly Wages  \n",
       "0                   359690.0                2767.0  \n",
       "1                136068970.0                2023.0  \n",
       "2                   210934.0                 560.0  \n",
       "3                   748616.0                1107.0  \n",
       "4                   748616.0                1107.0  "
      ]
     },
     "execution_count": 4,
     "metadata": {},
     "output_type": "execute_result"
    }
   ],
   "source": [
    "import pandas as pd\n",
    "# If put the data(.csv) under the same folder, you could use\n",
    "df = pd.read_csv('./qcew_2016-2019.csv')\n",
    "print(df.shape)\n",
    "df.head()"
   ]
  },
  {
   "cell_type": "code",
   "execution_count": 6,
   "metadata": {
    "colab": {
     "base_uri": "https://localhost:8080/"
    },
    "id": "8Q3gbKdg6FRH",
    "outputId": "f9a76284-9eab-40f3-ae40-753ce4b03ccf"
   },
   "outputs": [
    {
     "name": "stdout",
     "output_type": "stream",
     "text": [
      "Number of datapoints from 2018-2019:  506913\n"
     ]
    }
   ],
   "source": [
    "#Lots of data points, maybe we can drop the older years\n",
    "print(\"Number of datapoints from 2018-2019: \", df.loc[df['Year'] == 2019].shape[0] + df.loc[df['Year'] == 2018].shape[0])"
   ]
  },
  {
   "cell_type": "code",
   "execution_count": 7,
   "metadata": {
    "colab": {
     "base_uri": "https://localhost:8080/"
    },
    "id": "OOMrTYt-7X6G",
    "outputId": "8e049f87-e34b-4c04-e423-1b5536104ed7"
   },
   "outputs": [
    {
     "name": "stdout",
     "output_type": "stream",
     "text": [
      "(506913, 15)\n"
     ]
    }
   ],
   "source": [
    "#500K datapoints should be sufficient, and it should also be more accurate since its newer data\n",
    "df = df[df['Year'] != 2016]\n",
    "df = df[df['Year'] != 2017]\n",
    "print(df.shape)"
   ]
  },
  {
   "cell_type": "code",
   "execution_count": 8,
   "metadata": {
    "colab": {
     "base_uri": "https://localhost:8080/"
    },
    "id": "cTTDLGIf83tF",
    "outputId": "a849e5b2-907c-4ec6-c4ee-4b7999c87519"
   },
   "outputs": [
    {
     "data": {
      "text/plain": [
       "Index(['Area Type', 'Area Name', 'Year', 'Quarter', 'Ownership', 'NAICS Level',\n",
       "       'NAICS Code', 'Industry Name', 'Establishments',\n",
       "       'Average Monthly Employment', '1st Month Emp', '2nd Month Emp',\n",
       "       '3rd Month Emp', 'Total Wages (All Workers)', 'Average Weekly Wages'],\n",
       "      dtype='object')"
      ]
     },
     "execution_count": 8,
     "metadata": {},
     "output_type": "execute_result"
    }
   ],
   "source": [
    "df.columns"
   ]
  },
  {
   "cell_type": "code",
   "execution_count": 9,
   "metadata": {
    "colab": {
     "base_uri": "https://localhost:8080/",
     "height": 206
    },
    "id": "ogp0Yy-k75Aa",
    "outputId": "8614bdf2-868d-4bf2-bc67-e8772efa4393"
   },
   "outputs": [
    {
     "data": {
      "text/html": [
       "<div>\n",
       "<style scoped>\n",
       "    .dataframe tbody tr th:only-of-type {\n",
       "        vertical-align: middle;\n",
       "    }\n",
       "\n",
       "    .dataframe tbody tr th {\n",
       "        vertical-align: top;\n",
       "    }\n",
       "\n",
       "    .dataframe thead th {\n",
       "        text-align: right;\n",
       "    }\n",
       "</style>\n",
       "<table border=\"1\" class=\"dataframe\">\n",
       "  <thead>\n",
       "    <tr style=\"text-align: right;\">\n",
       "      <th></th>\n",
       "      <th>Area Type</th>\n",
       "      <th>Area Name</th>\n",
       "      <th>Year</th>\n",
       "      <th>Quarter</th>\n",
       "      <th>Ownership</th>\n",
       "      <th>Industry Name</th>\n",
       "      <th>Establishments</th>\n",
       "      <th>Average Monthly Employment</th>\n",
       "      <th>1st Month Emp</th>\n",
       "      <th>2nd Month Emp</th>\n",
       "      <th>3rd Month Emp</th>\n",
       "      <th>Total Wages (All Workers)</th>\n",
       "      <th>Average Weekly Wages</th>\n",
       "    </tr>\n",
       "  </thead>\n",
       "  <tbody>\n",
       "    <tr>\n",
       "      <th>147</th>\n",
       "      <td>County</td>\n",
       "      <td>Marin County</td>\n",
       "      <td>2019</td>\n",
       "      <td>Annual</td>\n",
       "      <td>Private</td>\n",
       "      <td>Used Car Dealers</td>\n",
       "      <td>6</td>\n",
       "      <td>46</td>\n",
       "      <td>0</td>\n",
       "      <td>0</td>\n",
       "      <td>0</td>\n",
       "      <td>3170232.0</td>\n",
       "      <td>1340.0</td>\n",
       "    </tr>\n",
       "    <tr>\n",
       "      <th>148</th>\n",
       "      <td>County</td>\n",
       "      <td>Marin County</td>\n",
       "      <td>2019</td>\n",
       "      <td>Annual</td>\n",
       "      <td>Private</td>\n",
       "      <td>Department Stores</td>\n",
       "      <td>10</td>\n",
       "      <td>819</td>\n",
       "      <td>0</td>\n",
       "      <td>0</td>\n",
       "      <td>0</td>\n",
       "      <td>28355846.0</td>\n",
       "      <td>666.0</td>\n",
       "    </tr>\n",
       "    <tr>\n",
       "      <th>149</th>\n",
       "      <td>County</td>\n",
       "      <td>Marin County</td>\n",
       "      <td>2019</td>\n",
       "      <td>Annual</td>\n",
       "      <td>Private</td>\n",
       "      <td>Travel Agencies</td>\n",
       "      <td>19</td>\n",
       "      <td>189</td>\n",
       "      <td>0</td>\n",
       "      <td>0</td>\n",
       "      <td>0</td>\n",
       "      <td>10466322.0</td>\n",
       "      <td>1065.0</td>\n",
       "    </tr>\n",
       "    <tr>\n",
       "      <th>150</th>\n",
       "      <td>County</td>\n",
       "      <td>Modoc County</td>\n",
       "      <td>2019</td>\n",
       "      <td>Annual</td>\n",
       "      <td>Private</td>\n",
       "      <td>Logging</td>\n",
       "      <td>4</td>\n",
       "      <td>19</td>\n",
       "      <td>0</td>\n",
       "      <td>0</td>\n",
       "      <td>0</td>\n",
       "      <td>1008116.0</td>\n",
       "      <td>1048.0</td>\n",
       "    </tr>\n",
       "    <tr>\n",
       "      <th>151</th>\n",
       "      <td>County</td>\n",
       "      <td>Modoc County</td>\n",
       "      <td>2019</td>\n",
       "      <td>Annual</td>\n",
       "      <td>Private</td>\n",
       "      <td>Logging</td>\n",
       "      <td>4</td>\n",
       "      <td>19</td>\n",
       "      <td>0</td>\n",
       "      <td>0</td>\n",
       "      <td>0</td>\n",
       "      <td>1008116.0</td>\n",
       "      <td>1048.0</td>\n",
       "    </tr>\n",
       "  </tbody>\n",
       "</table>\n",
       "</div>"
      ],
      "text/plain": [
       "    Area Type     Area Name  Year Quarter Ownership      Industry Name  \\\n",
       "147    County  Marin County  2019  Annual   Private   Used Car Dealers   \n",
       "148    County  Marin County  2019  Annual   Private  Department Stores   \n",
       "149    County  Marin County  2019  Annual   Private    Travel Agencies   \n",
       "150    County  Modoc County  2019  Annual   Private            Logging   \n",
       "151    County  Modoc County  2019  Annual   Private            Logging   \n",
       "\n",
       "     Establishments  Average Monthly Employment  1st Month Emp  2nd Month Emp  \\\n",
       "147               6                          46              0              0   \n",
       "148              10                         819              0              0   \n",
       "149              19                         189              0              0   \n",
       "150               4                          19              0              0   \n",
       "151               4                          19              0              0   \n",
       "\n",
       "     3rd Month Emp  Total Wages (All Workers)  Average Weekly Wages  \n",
       "147              0                  3170232.0                1340.0  \n",
       "148              0                 28355846.0                 666.0  \n",
       "149              0                 10466322.0                1065.0  \n",
       "150              0                  1008116.0                1048.0  \n",
       "151              0                  1008116.0                1048.0  "
      ]
     },
     "execution_count": 9,
     "metadata": {},
     "output_type": "execute_result"
    }
   ],
   "source": [
    "#Since the NAICS code just represents the industry, and we already have indsutry name, lets drop NAICS codes and NAICS levels\n",
    "df.drop(['NAICS Level','NAICS Code'],axis=1,inplace=True)\n",
    "df.head()"
   ]
  },
  {
   "cell_type": "code",
   "execution_count": 10,
   "metadata": {
    "colab": {
     "base_uri": "https://localhost:8080/",
     "height": 206
    },
    "id": "J9uTs7L289UN",
    "outputId": "75bd80ff-6f63-49b9-b8bd-a624088d2fc8"
   },
   "outputs": [
    {
     "data": {
      "text/html": [
       "<div>\n",
       "<style scoped>\n",
       "    .dataframe tbody tr th:only-of-type {\n",
       "        vertical-align: middle;\n",
       "    }\n",
       "\n",
       "    .dataframe tbody tr th {\n",
       "        vertical-align: top;\n",
       "    }\n",
       "\n",
       "    .dataframe thead th {\n",
       "        text-align: right;\n",
       "    }\n",
       "</style>\n",
       "<table border=\"1\" class=\"dataframe\">\n",
       "  <thead>\n",
       "    <tr style=\"text-align: right;\">\n",
       "      <th></th>\n",
       "      <th>Area Type</th>\n",
       "      <th>Area Name</th>\n",
       "      <th>Year</th>\n",
       "      <th>Quarter</th>\n",
       "      <th>Industry Name</th>\n",
       "      <th>Establishments</th>\n",
       "      <th>Average Monthly Employment</th>\n",
       "      <th>Average Weekly Wages</th>\n",
       "    </tr>\n",
       "  </thead>\n",
       "  <tbody>\n",
       "    <tr>\n",
       "      <th>147</th>\n",
       "      <td>County</td>\n",
       "      <td>Marin County</td>\n",
       "      <td>2019</td>\n",
       "      <td>Annual</td>\n",
       "      <td>Used Car Dealers</td>\n",
       "      <td>6</td>\n",
       "      <td>46</td>\n",
       "      <td>1340.0</td>\n",
       "    </tr>\n",
       "    <tr>\n",
       "      <th>148</th>\n",
       "      <td>County</td>\n",
       "      <td>Marin County</td>\n",
       "      <td>2019</td>\n",
       "      <td>Annual</td>\n",
       "      <td>Department Stores</td>\n",
       "      <td>10</td>\n",
       "      <td>819</td>\n",
       "      <td>666.0</td>\n",
       "    </tr>\n",
       "    <tr>\n",
       "      <th>149</th>\n",
       "      <td>County</td>\n",
       "      <td>Marin County</td>\n",
       "      <td>2019</td>\n",
       "      <td>Annual</td>\n",
       "      <td>Travel Agencies</td>\n",
       "      <td>19</td>\n",
       "      <td>189</td>\n",
       "      <td>1065.0</td>\n",
       "    </tr>\n",
       "    <tr>\n",
       "      <th>150</th>\n",
       "      <td>County</td>\n",
       "      <td>Modoc County</td>\n",
       "      <td>2019</td>\n",
       "      <td>Annual</td>\n",
       "      <td>Logging</td>\n",
       "      <td>4</td>\n",
       "      <td>19</td>\n",
       "      <td>1048.0</td>\n",
       "    </tr>\n",
       "    <tr>\n",
       "      <th>151</th>\n",
       "      <td>County</td>\n",
       "      <td>Modoc County</td>\n",
       "      <td>2019</td>\n",
       "      <td>Annual</td>\n",
       "      <td>Logging</td>\n",
       "      <td>4</td>\n",
       "      <td>19</td>\n",
       "      <td>1048.0</td>\n",
       "    </tr>\n",
       "  </tbody>\n",
       "</table>\n",
       "</div>"
      ],
      "text/plain": [
       "    Area Type     Area Name  Year Quarter      Industry Name  Establishments  \\\n",
       "147    County  Marin County  2019  Annual   Used Car Dealers               6   \n",
       "148    County  Marin County  2019  Annual  Department Stores              10   \n",
       "149    County  Marin County  2019  Annual    Travel Agencies              19   \n",
       "150    County  Modoc County  2019  Annual            Logging               4   \n",
       "151    County  Modoc County  2019  Annual            Logging               4   \n",
       "\n",
       "     Average Monthly Employment  Average Weekly Wages  \n",
       "147                          46                1340.0  \n",
       "148                         819                 666.0  \n",
       "149                         189                1065.0  \n",
       "150                          19                1048.0  \n",
       "151                          19                1048.0  "
      ]
     },
     "execution_count": 10,
     "metadata": {},
     "output_type": "execute_result"
    }
   ],
   "source": [
    "#We don't need to know the total wages for all of the workers, who owns the business, or the individual months of employement\n",
    "df.drop(['Ownership','1st Month Emp','2nd Month Emp','3rd Month Emp','Total Wages (All Workers)'],axis=1,inplace=True)\n",
    "df.head()"
   ]
  },
  {
   "cell_type": "code",
   "execution_count": 11,
   "metadata": {
    "colab": {
     "base_uri": "https://localhost:8080/"
    },
    "id": "X4k5wyFyAcBV",
    "outputId": "f8129784-5bc3-4ab2-d3d5-7ea9291e42b1"
   },
   "outputs": [
    {
     "data": {
      "text/plain": [
       "array(['County', 'California - Statewide', 'United States'], dtype=object)"
      ]
     },
     "execution_count": 11,
     "metadata": {},
     "output_type": "execute_result"
    }
   ],
   "source": [
    "#Checking what Area Types we have\n",
    "df['Area Type'].unique()"
   ]
  },
  {
   "cell_type": "code",
   "execution_count": 12,
   "metadata": {
    "colab": {
     "base_uri": "https://localhost:8080/"
    },
    "id": "HYQT2VZ9AkaN",
    "outputId": "5c3bac3b-c297-4355-9fb9-9b430b5da083"
   },
   "outputs": [
    {
     "name": "stdout",
     "output_type": "stream",
     "text": [
      "(441540, 8)\n"
     ]
    }
   ],
   "source": [
    "#We want to focus on the county level, lets ensure there are enough datapoints to drop the rest\n",
    "print(df.loc[df['Area Type'] == 'County'].shape)\n",
    "df = df[df['Area Type'] == 'County']"
   ]
  },
  {
   "cell_type": "code",
   "execution_count": 13,
   "metadata": {
    "colab": {
     "base_uri": "https://localhost:8080/"
    },
    "id": "wUPhss5HBC06",
    "outputId": "5aee885b-06fc-4721-8ad5-66476bed5478"
   },
   "outputs": [
    {
     "name": "stdout",
     "output_type": "stream",
     "text": [
      "(89255, 8)\n"
     ]
    }
   ],
   "source": [
    "#Since there may be overlap between Quarters or the Annual datapoints, lets only use Annual\n",
    "print(df.loc[df['Quarter'] == 'Annual'].shape)\n",
    "df = df[df['Quarter'] == 'Annual']"
   ]
  },
  {
   "cell_type": "code",
   "execution_count": 14,
   "metadata": {
    "colab": {
     "base_uri": "https://localhost:8080/",
     "height": 293
    },
    "id": "Hy7ad9nsBVw5",
    "outputId": "b0902837-0b8a-4849-bffe-728ff784720a"
   },
   "outputs": [
    {
     "data": {
      "text/html": [
       "<div>\n",
       "<style scoped>\n",
       "    .dataframe tbody tr th:only-of-type {\n",
       "        vertical-align: middle;\n",
       "    }\n",
       "\n",
       "    .dataframe tbody tr th {\n",
       "        vertical-align: top;\n",
       "    }\n",
       "\n",
       "    .dataframe thead th {\n",
       "        text-align: right;\n",
       "    }\n",
       "</style>\n",
       "<table border=\"1\" class=\"dataframe\">\n",
       "  <thead>\n",
       "    <tr style=\"text-align: right;\">\n",
       "      <th></th>\n",
       "      <th>Area Name</th>\n",
       "      <th>Year</th>\n",
       "      <th>Industry Name</th>\n",
       "      <th>Establishments</th>\n",
       "      <th>Average Monthly Employment</th>\n",
       "      <th>Average Weekly Wages</th>\n",
       "    </tr>\n",
       "  </thead>\n",
       "  <tbody>\n",
       "    <tr>\n",
       "      <th>0</th>\n",
       "      <td>Marin County</td>\n",
       "      <td>2019</td>\n",
       "      <td>Used Car Dealers</td>\n",
       "      <td>6</td>\n",
       "      <td>46</td>\n",
       "      <td>1340.0</td>\n",
       "    </tr>\n",
       "    <tr>\n",
       "      <th>1</th>\n",
       "      <td>Marin County</td>\n",
       "      <td>2019</td>\n",
       "      <td>Department Stores</td>\n",
       "      <td>10</td>\n",
       "      <td>819</td>\n",
       "      <td>666.0</td>\n",
       "    </tr>\n",
       "    <tr>\n",
       "      <th>2</th>\n",
       "      <td>Marin County</td>\n",
       "      <td>2019</td>\n",
       "      <td>Travel Agencies</td>\n",
       "      <td>19</td>\n",
       "      <td>189</td>\n",
       "      <td>1065.0</td>\n",
       "    </tr>\n",
       "    <tr>\n",
       "      <th>3</th>\n",
       "      <td>Modoc County</td>\n",
       "      <td>2019</td>\n",
       "      <td>Logging</td>\n",
       "      <td>4</td>\n",
       "      <td>19</td>\n",
       "      <td>1048.0</td>\n",
       "    </tr>\n",
       "    <tr>\n",
       "      <th>4</th>\n",
       "      <td>Modoc County</td>\n",
       "      <td>2019</td>\n",
       "      <td>Logging</td>\n",
       "      <td>4</td>\n",
       "      <td>19</td>\n",
       "      <td>1048.0</td>\n",
       "    </tr>\n",
       "  </tbody>\n",
       "</table>\n",
       "</div>"
      ],
      "text/plain": [
       "      Area Name  Year      Industry Name  Establishments  \\\n",
       "0  Marin County  2019   Used Car Dealers               6   \n",
       "1  Marin County  2019  Department Stores              10   \n",
       "2  Marin County  2019    Travel Agencies              19   \n",
       "3  Modoc County  2019            Logging               4   \n",
       "4  Modoc County  2019            Logging               4   \n",
       "\n",
       "   Average Monthly Employment  Average Weekly Wages  \n",
       "0                          46                1340.0  \n",
       "1                         819                 666.0  \n",
       "2                         189                1065.0  \n",
       "3                          19                1048.0  \n",
       "4                          19                1048.0  "
      ]
     },
     "execution_count": 14,
     "metadata": {},
     "output_type": "execute_result"
    }
   ],
   "source": [
    "#Now we can drop 'Area Type' and 'Quarter'\n",
    "df.drop(['Area Type','Quarter'],axis=1,inplace=True)\n",
    "df.reset_index(drop=True, inplace=True)\n",
    "df.head()"
   ]
  },
  {
   "cell_type": "code",
   "execution_count": 15,
   "metadata": {
    "colab": {
     "base_uri": "https://localhost:8080/"
    },
    "id": "_4zGJS31B-h2",
    "outputId": "bee80293-d33d-40ab-9d24-7318bb8b893a"
   },
   "outputs": [
    {
     "data": {
      "text/plain": [
       "(89255, 6)"
      ]
     },
     "execution_count": 15,
     "metadata": {},
     "output_type": "execute_result"
    }
   ],
   "source": [
    "df.shape"
   ]
  },
  {
   "cell_type": "code",
   "execution_count": 16,
   "metadata": {
    "id": "8ah2vJ9yCTjN"
   },
   "outputs": [
    {
     "data": {
      "text/plain": [
       "Area Name                     0\n",
       "Year                          0\n",
       "Industry Name                 0\n",
       "Establishments                0\n",
       "Average Monthly Employment    0\n",
       "Average Weekly Wages          0\n",
       "dtype: int64"
      ]
     },
     "execution_count": 16,
     "metadata": {},
     "output_type": "execute_result"
    }
   ],
   "source": [
    "#Check for missing values\n",
    "df.isnull().sum()"
   ]
  },
  {
   "cell_type": "code",
   "execution_count": 17,
   "metadata": {},
   "outputs": [
    {
     "name": "stdout",
     "output_type": "stream",
     "text": [
      "(65689, 6)\n"
     ]
    }
   ],
   "source": [
    "#Drop outliers using IQR\n",
    "def dropOutliers(df, colName):\n",
    "    [Q1, Q2, Q3] = df[colName].quantile([0.25, 0.5, 0.75])\n",
    "    IQR = Q3 - Q1\n",
    "    return df[(df[colName] >= (Q1 - (1.5 * IQR))) & (df[colName] <= (Q3 + (1.5 * IQR)))]\n",
    "df = dropOutliers(df, 'Establishments')\n",
    "df = dropOutliers(df, 'Average Monthly Employment')\n",
    "df = dropOutliers(df, 'Average Weekly Wages')\n",
    "print(df.shape)"
   ]
  }
 ],
 "metadata": {
  "colab": {
   "provenance": []
  },
  "kernelspec": {
   "display_name": "Python 3",
   "name": "python3"
  },
  "language_info": {
   "codemirror_mode": {
    "name": "ipython",
    "version": 3
   },
   "file_extension": ".py",
   "mimetype": "text/x-python",
   "name": "python",
   "nbconvert_exporter": "python",
   "pygments_lexer": "ipython3",
   "version": "3.12.4"
  }
 },
 "nbformat": 4,
 "nbformat_minor": 0
}
